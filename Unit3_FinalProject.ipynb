{
 "cells": [
  {
   "cell_type": "markdown",
   "metadata": {},
   "source": [
    "# Unit 3 Final Projects: Calculating evolutionary distance\n",
    "\n",
    "In this notebook you will compare the sequence of a particular gene from 3 different species to find out which two are most closely related. \n",
    "\n",
    "You will need to do the following:\n",
    "1. Open and read in your files\n",
    "2. Decide which sequences to compare (DNA, RNA, or protein)\n",
    "3. Write code that prints out the percent similarity of each pair of sequences"
   ]
  },
  {
   "cell_type": "code",
   "execution_count": 1,
   "metadata": {},
   "outputs": [],
   "source": [
    "cow = open(\"4c_CYTB_DNA.txt\").read()\n",
    "dolphin = open(\"4b_CYTB_DNA.txt\").read()\n",
    "manatee = open(\"4a_CYTB_DNA.txt\").read()"
   ]
  },
  {
   "cell_type": "code",
   "execution_count": 7,
   "metadata": {},
   "outputs": [
    {
     "name": "stdout",
     "output_type": "stream",
     "text": [
      "76.05263157894737\n"
     ]
    }
   ],
   "source": [
    "differences= 0\n",
    "#% sim = (#of sim)*100/len of shorter sequence\n",
    "for i,base in enumerate(cow):\n",
    "    if manatee[i]!= base:\n",
    "        differences += 1\n",
    "\n",
    "persimilarityc= (len(cow)-differences)*100/(len(cow))\n",
    "print(persimilarityc)"
   ]
  },
  {
   "cell_type": "code",
   "execution_count": 8,
   "metadata": {},
   "outputs": [
    {
     "name": "stdout",
     "output_type": "stream",
     "text": [
      "79.21052631578948\n"
     ]
    }
   ],
   "source": [
    "differences= 0 #manatee\n",
    "for i,base in enumerate(dolphin):\n",
    "    if cow[i]!= base:#dolphin\n",
    "        differences += 1\n",
    "        \n",
    "persimilarityd= (len(dolphin)-differences)*100/(len(dolphin))\n",
    "print(persimilarityd)"
   ]
  },
  {
   "cell_type": "code",
   "execution_count": 9,
   "metadata": {},
   "outputs": [
    {
     "name": "stdout",
     "output_type": "stream",
     "text": [
      "76.49122807017544\n"
     ]
    }
   ],
   "source": [
    "differences= 0 \n",
    "for i,base in enumerate(manatee):\n",
    "    if dolphin[i]!= base:\n",
    "        differences+= 1\n",
    "        \n",
    "        \n",
    "persimilaritym= (len(manatee)-differences)*100/(len(manatee))\n",
    "print(persimilaritym)\n"
   ]
  },
  {
   "cell_type": "markdown",
   "metadata": {},
   "source": [
    "## Bonus Challenge\n",
    "\n",
    "Visualize your results! Choose a graph type that you think will communicate your conclusions effectively and create it using matplotlib:"
   ]
  },
  {
   "cell_type": "code",
   "execution_count": 11,
   "metadata": {},
   "outputs": [
    {
     "data": {
      "image/png": "[encoded data removed]",
      "text/plain": [
       "<Figure size 432x288 with 1 Axes>"
      ]
     },
     "metadata": {
      "needs_background": "light"
     },
     "output_type": "display_data"
    }
   ],
   "source": [
    "import matplotlib.pyplot as plt\n",
    "plt.bar([1,2,3], [persimilarityc,persimilarityd,persimilaritym], color = [\"pink\", \"yellow\",\"blue\"])\n",
    "plt.title(\"DNA Sequence Similarities\")\n",
    "plt.xticks([1,2,3], [\"Cow v. manatee\", \"cow v. dolphin\",\"manatee v. dolpin\"])\n",
    "plt.ylim(76,80)\n",
    "plt.show()"
   ]
  },
  {
   "cell_type": "code",
   "execution_count": null,
   "metadata": {},
   "outputs": [],
   "source": []
  },
  {
   "cell_type": "markdown",
   "metadata": {},
   "source": [
    "## Bonus Challenge 2\n",
    "If you finish your project and want to try a challenge, come up with a hypothesis about which of the following species are most closely related to humans (carp, chicken, chimp, dog, eel, elephant, frog, gorilla, macaque monkey, mouse, orangutan, pig). Write out a ranked list with the species you think is most related to humans at the top.\n",
    "\n",
    "Then calculate the percent difference between the hemoglobin amino acid sequences of humans and each species to find out how close you came to the right ranking!"
   ]
  },
  {
   "cell_type": "code",
   "execution_count": null,
   "metadata": {},
   "outputs": [],
   "source": []
  }
 ],
 "metadata": {
  "kernelspec": {
   "display_name": "Python 3",
   "language": "python",
   "name": "python3"
  },
  "language_info": {
   "codemirror_mode": {
    "name": "ipython",
    "version": 3
   },
   "file_extension": ".py",
   "mimetype": "text/x-python",
   "name": "python",
   "nbconvert_exporter": "python",
   "pygments_lexer": "ipython3",
   "version": "3.7.3"
  }
 },
 "nbformat": 4,
 "nbformat_minor": 2
}
